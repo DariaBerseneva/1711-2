{
  "nbformat": 4,
  "nbformat_minor": 0,
  "metadata": {
    "colab": {
      "provenance": [],
      "authorship_tag": "ABX9TyMG58GfOgcE+rtWernHFc+G",
      "include_colab_link": true
    },
    "kernelspec": {
      "name": "python3",
      "display_name": "Python 3"
    },
    "language_info": {
      "name": "python"
    }
  },
  "cells": [
    {
      "cell_type": "markdown",
      "metadata": {
        "id": "view-in-github",
        "colab_type": "text"
      },
      "source": [
        "<a href=\"https://colab.research.google.com/github/DariaBerseneva/1711-2/blob/main/1711.ipynb\" target=\"_parent\"><img src=\"https://colab.research.google.com/assets/colab-badge.svg\" alt=\"Open In Colab\"/></a>"
      ]
    },
    {
      "cell_type": "code",
      "execution_count": 39,
      "metadata": {
        "colab": {
          "base_uri": "https://localhost:8080/"
        },
        "id": "i80cXcAS-6qA",
        "outputId": "33a38228-9bdd-42b7-95fa-6c91c8f8f045"
      },
      "outputs": [
        {
          "output_type": "stream",
          "name": "stdout",
          "text": [
            "[0.67, 0.4]\n"
          ]
        }
      ],
      "source": [
        "import math\n",
        "\n",
        "def sigma(x):\n",
        "  return 1 / (1 + math.exp(-x))\n",
        "\n",
        "class Neuron:\n",
        "  def __init__(self, w1, w2):\n",
        "    self.w1 = w1\n",
        "    self.w2 = w2\n",
        "\n",
        "  def forward(self, x1, x2):\n",
        "    summ = x1*self.w1 + x2*self.w2\n",
        "    return sigma(summ)\n",
        "\n",
        "#n1 = Neuron(1.0, 0.5)\n",
        "#result1 = n1.forward(0.9, 0.3)\n",
        "#print(result1)\n",
        "\n",
        "#n2 = Neuron(1.0, 0.5)\n",
        "#result2 = n2.forward(0.2, 0.8)\n",
        "#print(result2)\n",
        "\n",
        "def mult(A, B):\n",
        "  result = []\n",
        "  rows_A = len(A)\n",
        "  cols_A = len(A[0])\n",
        "  rows_B = len(B)\n",
        "  if cols_A != rows_B:\n",
        "    print('Количество столбцов первой матрицы  не равно количеству строк второй матрицы!')\n",
        "    return\n",
        "\n",
        "  result = [0 for col in range(rows_A)]\n",
        "  for s in range(rows_A):\n",
        "      for k in range(cols_A):\n",
        "        result[s] += A[s][k] * B[k]\n",
        "  return(result)\n",
        "\n",
        "A = [[0.9, 0.3, -0.5], [0.2, 0.8, 0.1]]\n",
        "B = [0.5, 0.4, -0.2]\n",
        "\n",
        "print(mult(A, B))"
      ]
    }
  ]
}