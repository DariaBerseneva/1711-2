{
  "nbformat": 4,
  "nbformat_minor": 0,
  "metadata": {
    "colab": {
      "provenance": [],
      "authorship_tag": "ABX9TyN4o452Zmv4QPQuEW5CeRPF",
      "include_colab_link": true
    },
    "kernelspec": {
      "name": "python3",
      "display_name": "Python 3"
    },
    "language_info": {
      "name": "python"
    }
  },
  "cells": [
    {
      "cell_type": "markdown",
      "metadata": {
        "id": "view-in-github",
        "colab_type": "text"
      },
      "source": [
        "<a href=\"https://colab.research.google.com/github/DariaBerseneva/1711-2/blob/main/Untitled0.ipynb\" target=\"_parent\"><img src=\"https://colab.research.google.com/assets/colab-badge.svg\" alt=\"Open In Colab\"/></a>"
      ]
    },
    {
      "cell_type": "code",
      "execution_count": null,
      "metadata": {
        "colab": {
          "base_uri": "https://localhost:8080/"
        },
        "id": "IaOXBHiMCRmd",
        "outputId": "1c14371c-0b69-4199-ab92-de63bfca065d"
      },
      "outputs": [
        {
          "output_type": "stream",
          "name": "stdout",
          "text": [
            "[[0.2 ]\n",
            " [0.09]\n",
            " [0.5 ]]\n"
          ]
        }
      ],
      "source": [
        "import numpy as np\n",
        "import scipy\n",
        "\n",
        "I = np.array([0.9, 0.1, 0.8], ndmin=2).T\n",
        "t = np.array([0.2, 0.09, 0.5], ndmin=2).T\n",
        "W_i_h = np.array([[0.9, 0.3, 0.4], [0.2, 0.8, 0.2], [0.1, 0.5, 0.6]])\n",
        "W_h_o = np.array([[0.3, 0.7, 0.5], [0.6, 0.5, 0.2], [0.8, 0.1, 0.9]])\n",
        "\n",
        "n=1\n",
        "while n <=10000:\n",
        "  O_h = W_i_h.dot(I)\n",
        "  O_h = scipy.special.expit(O_h)\n",
        "  O = W_h_o.dot(O_h)\n",
        "  O = scipy.special.expit(O)\n",
        "\n",
        "  E_o = t - O\n",
        "  E_h = np.dot(W_h_o.T, E_o)\n",
        "  W_h_o += 0.1 * E_o * O * (1 - O) * O_h.T\n",
        "  W_i_h += 0.1 * E_h * O_h * (1 - O_h) * I.T\n",
        "\n",
        "  n += 1\n",
        "print(O)"
      ]
    },
    {
      "cell_type": "code",
      "source": [
        "class NeuralNetwork:\n",
        "  def __init__(self, input_nodes, hidden_nodes, output_nodes, learning_rate):\n",
        "    self.input_nodes = input_nodes\n",
        "    self.hidden_nodes = hidden_nodes\n",
        "    self.output_nodes = output_nodes\n",
        "    self.learning_rate = learning_rate\n",
        "\n",
        "    np.random.seed(42)\n",
        "    self.W_i_h = np.random.normal(0.01, 0.99, (hidden_nodes, input_nodes))\n",
        "    self.W_h_o = np.random.normal(0.01, 0.99, (output_nodes, hidden_nodes))\n",
        "\n",
        "  def forward(self, inputs):\n",
        "    inputs = np.array(inputs, ndmin=2).T\n",
        "    O_h = self.W_i_h.dot(inputs)\n",
        "    O_h = scipy.special.expit(O_h)\n",
        "    O = self.W_h_o.dot(O_h)\n",
        "    O = scipy.special.expit(O)\n",
        "    return O"
      ],
      "metadata": {
        "id": "eDmC5OGcfqej"
      },
      "execution_count": null,
      "outputs": []
    },
    {
      "cell_type": "code",
      "source": [
        "net = NeuralNetwork(3, 3, 3, 0.1)\n",
        "result = net.forward([0.9, 0.1, 0.8])\n",
        "print(result)"
      ],
      "metadata": {
        "colab": {
          "base_uri": "https://localhost:8080/"
        },
        "id": "mhktMQUKk7of",
        "outputId": "111b585d-9db0-4fd6-e561-5cb07b9435dc"
      },
      "execution_count": null,
      "outputs": [
        {
          "output_type": "stream",
          "name": "stdout",
          "text": [
            "[[0.4286307 ]\n",
            " [0.07316002]\n",
            " [0.28708966]]\n"
          ]
        }
      ]
    }
  ]
}