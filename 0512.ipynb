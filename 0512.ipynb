{
  "nbformat": 4,
  "nbformat_minor": 0,
  "metadata": {
    "colab": {
      "provenance": [],
      "authorship_tag": "ABX9TyOG6MLUkwZfCypOLfLsrGUi",
      "include_colab_link": true
    },
    "kernelspec": {
      "name": "python3",
      "display_name": "Python 3"
    },
    "language_info": {
      "name": "python"
    }
  },
  "cells": [
    {
      "cell_type": "markdown",
      "metadata": {
        "id": "view-in-github",
        "colab_type": "text"
      },
      "source": [
        "<a href=\"https://colab.research.google.com/github/DariaBerseneva/1711-2/blob/main/0512.ipynb\" target=\"_parent\"><img src=\"https://colab.research.google.com/assets/colab-badge.svg\" alt=\"Open In Colab\"/></a>"
      ]
    },
    {
      "cell_type": "code",
      "execution_count": 2,
      "metadata": {
        "colab": {
          "base_uri": "https://localhost:8080/"
        },
        "id": "IaOXBHiMCRmd",
        "outputId": "7aececaf-691a-44fa-be1c-b48ef1b03e66"
      },
      "outputs": [
        {
          "output_type": "stream",
          "name": "stdout",
          "text": [
            "[[0.2 ]\n",
            " [0.09]\n",
            " [0.5 ]]\n"
          ]
        }
      ],
      "source": [
        "import numpy as np\n",
        "import scipy\n",
        "\n",
        "I = np.array([0.9, 0.1, 0.8], ndmin=2).T\n",
        "t = np.array([0.2, 0.09, 0.5], ndmin=2).T\n",
        "W_i_h = np.array([[0.9, 0.3, 0.4], [0.2, 0.8, 0.2], [0.1, 0.5, 0.6]])\n",
        "W_h_o = np.array([[0.3, 0.7, 0.5], [0.6, 0.5, 0.2], [0.8, 0.1, 0.9]])\n",
        "\n",
        "n=1\n",
        "while n <=10000:\n",
        "  O_h = W_i_h.dot(I)\n",
        "  O_h = scipy.special.expit(O_h)\n",
        "  O = W_h_o.dot(O_h)\n",
        "  O = scipy.special.expit(O)\n",
        "\n",
        "  E_o = t - O\n",
        "  E_h = np.dot(W_h_o.T, E_o)\n",
        "  W_h_o += 0.1 * E_o * O * (1 - O) * O_h.T\n",
        "  W_i_h += 0.1 * E_h * O_h * (1 - O_h) * I.T\n",
        "\n",
        "  n += 1\n",
        "print(O)"
      ]
    },
    {
      "cell_type": "code",
      "source": [
        "class NeuralNetwork:\n",
        "  def __init__(self, input_nodes, hidden_nodes, output_nodes, learning_rate):\n",
        "    self.input_nodes = input_nodes\n",
        "    self.hidden_nodes = hidden_nodes\n",
        "    self.output_nodes = output_nodes\n",
        "    self.learning_rate = learning_rate\n",
        "\n",
        "    np.random.seed(42)\n",
        "    self.W_i_h = np.random.normal(0.01, 0.99, (hidden_nodes, input_nodes))\n",
        "    self.W_h_o = np.random.normal(0.01, 0.99, (output_nodes, hidden_nodes))\n",
        "\n",
        "    self.activation_function = lambda x: scipy.special.expit(x)\n",
        "\n",
        "  def forward(self, inputs):\n",
        "    inputs = np.array(inputs, ndmin=2).T\n",
        "    O_h = self.W_i_h.dot(inputs)\n",
        "    O_h = scipy.special.expit(O_h)\n",
        "    O = self.W_h_o.dot(O_h)\n",
        "    O = scipy.special.expit(O)\n",
        "    return O\n",
        "\n",
        "  def train(self, inputs_list, targets_list):\n",
        "        inputs = np.array(inputs_list, ndmin=2).T\n",
        "        targets = np.array(targets_list, ndmin=2).T\n",
        "\n",
        "        hidden_inputs = np.dot(self.W_i_h, inputs)\n",
        "        hidden_outputs = self.activation_function(hidden_inputs)\n",
        "        final_inputs = np.dot(self.W_h_o, hidden_outputs)\n",
        "        final_outputs = self.activation_function(final_inputs)\n",
        "\n",
        "        output_errors = targets - final_outputs\n",
        "        hidden_errors = np.dot(self.W_h_o.T, output_errors)\n",
        "\n",
        "        self.W_h_o += self.learning_rate * np.dot((output_errors * final_outputs * (1.0 - final_outputs)),\n",
        "                                                  np.transpose(hidden_outputs))\n",
        "        self.W_i_h += self.learning_rate * np.dot((hidden_errors * hidden_outputs * (1.0 - hidden_outputs)),\n",
        "                                                  np.transpose(inputs))\n",
        "\n",
        "  def query(self, inputs_list):\n",
        "        inputs = np.array(inputs_list, ndmin=2).T\n",
        "\n",
        "        hidden_inputs = np.dot(self.W_i_h, inputs)\n",
        "        hidden_outputs = self.activation_function(hidden_inputs)\n",
        "        final_inputs = np.dot(self.W_h_o, hidden_outputs)\n",
        "        final_outputs = self.activation_function(final_inputs)\n",
        "\n",
        "        return final_outputs\n"
      ],
      "metadata": {
        "id": "eDmC5OGcfqej"
      },
      "execution_count": 17,
      "outputs": []
    },
    {
      "cell_type": "code",
      "source": [
        "net = NeuralNetwork(3, 3, 3, 0.1)\n",
        "print(net.query([0.9, 0.1, 0.8]))\n",
        "for i in range(1000):\n",
        "  net.train([0.9, 0.1, 0.8], [0.1, 0.37, 0.54])\n",
        "\n",
        "print(net.query([0.9, 0.1, 0.8]))"
      ],
      "metadata": {
        "colab": {
          "base_uri": "https://localhost:8080/"
        },
        "id": "mhktMQUKk7of",
        "outputId": "00abc5fa-3cde-4990-cb0c-91facb5827f9"
      },
      "execution_count": 15,
      "outputs": [
        {
          "output_type": "stream",
          "name": "stdout",
          "text": [
            "[[0.4286307 ]\n",
            " [0.07316002]\n",
            " [0.28708966]]\n",
            "[[0.11136787]\n",
            " [0.36562804]\n",
            " [0.53985307]]\n"
          ]
        }
      ]
    }
  ]
}